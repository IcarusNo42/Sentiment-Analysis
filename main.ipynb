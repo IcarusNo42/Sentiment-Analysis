{
  "cells": [
    {
      "cell_type": "code",
      "execution_count": 1,
      "metadata": {
        "id": "5F-4fNmMc5ux"
      },
      "outputs": [],
      "source": [
        "import pandas as pd\n",
        "import numpy as np\n",
        "import matplotlib.pyplot as plt\n",
        "import seaborn as sns\n",
        "from sklearn.metrics import classification_report, f1_score\n",
        "from sklearn.feature_extraction.text import TfidfVectorizer, CountVectorizer\n",
        "from nltk.tokenize import word_tokenize\n",
        "from nltk.corpus import stopwords\n",
        "import nltk"
      ]
    },
    {
      "cell_type": "code",
      "execution_count": 2,
      "metadata": {
        "colab": {
          "base_uri": "https://localhost:8080/"
        },
        "id": "pe4cFQbxwKyT",
        "outputId": "3a423c64-2bab-4eb8-fbc7-ae84b834ef21",
        "scrolled": true
      },
      "outputs": [
        {
          "name": "stderr",
          "output_type": "stream",
          "text": [
            "[nltk_data] Downloading package punkt to /root/nltk_data...\n",
            "[nltk_data]   Unzipping tokenizers/punkt.zip.\n",
            "[nltk_data] Downloading package stopwords to /root/nltk_data...\n",
            "[nltk_data]   Unzipping corpora/stopwords.zip.\n"
          ]
        },
        {
          "data": {
            "text/plain": [
              "True"
            ]
          },
          "execution_count": 3,
          "metadata": {},
          "output_type": "execute_result"
        }
      ],
      "source": [
        "plt.style.use('ggplot')\n",
        "nltk.download('punkt')\n",
        "nltk.download('stopwords')"
      ]
    },
    {
      "attachments": {},
      "cell_type": "markdown",
      "metadata": {
        "id": "fTsFOyr3wSDK"
      },
      "source": [
        "# Reading Data"
      ]
    },
    {
      "cell_type": "code",
      "execution_count": 4,
      "metadata": {
        "id": "NKjxbyP-dAz_"
      },
      "outputs": [],
      "source": [
        "df = pd.read_csv(r'Amazon_DataSet.csv')"
      ]
    },
    {
      "cell_type": "code",
      "execution_count": 5,
      "metadata": {
        "colab": {
          "base_uri": "https://localhost:8080/",
          "height": 206
        },
        "id": "2_ek5C2swckQ",
        "outputId": "59e5b345-fa91-44c7-f505-2b88581f55d1"
      },
      "outputs": [
        {
          "data": {
            "text/html": [
              "<div>\n",
              "<style scoped>\n",
              "    .dataframe tbody tr th:only-of-type {\n",
              "        vertical-align: middle;\n",
              "    }\n",
              "\n",
              "    .dataframe tbody tr th {\n",
              "        vertical-align: top;\n",
              "    }\n",
              "\n",
              "    .dataframe thead th {\n",
              "        text-align: right;\n",
              "    }\n",
              "</style>\n",
              "<table border=\"1\" class=\"dataframe\">\n",
              "  <thead>\n",
              "    <tr style=\"text-align: right;\">\n",
              "      <th></th>\n",
              "      <th>reviewText</th>\n",
              "      <th>Sentiment</th>\n",
              "    </tr>\n",
              "  </thead>\n",
              "  <tbody>\n",
              "    <tr>\n",
              "      <th>0</th>\n",
              "      <td>This is a one of the best apps acording to a b...</td>\n",
              "      <td>Positive</td>\n",
              "    </tr>\n",
              "    <tr>\n",
              "      <th>1</th>\n",
              "      <td>This is a pretty good version of the game for ...</td>\n",
              "      <td>Positive</td>\n",
              "    </tr>\n",
              "    <tr>\n",
              "      <th>2</th>\n",
              "      <td>this is a really cool game. there are a bunch ...</td>\n",
              "      <td>Positive</td>\n",
              "    </tr>\n",
              "    <tr>\n",
              "      <th>3</th>\n",
              "      <td>This is a silly game and can be frustrating, b...</td>\n",
              "      <td>Positive</td>\n",
              "    </tr>\n",
              "    <tr>\n",
              "      <th>4</th>\n",
              "      <td>This is a terrific game on any pad. Hrs of fun...</td>\n",
              "      <td>Positive</td>\n",
              "    </tr>\n",
              "  </tbody>\n",
              "</table>\n",
              "</div>"
            ],
            "text/plain": [
              "                                          reviewText Sentiment\n",
              "0  This is a one of the best apps acording to a b...  Positive\n",
              "1  This is a pretty good version of the game for ...  Positive\n",
              "2  this is a really cool game. there are a bunch ...  Positive\n",
              "3  This is a silly game and can be frustrating, b...  Positive\n",
              "4  This is a terrific game on any pad. Hrs of fun...  Positive"
            ]
          },
          "execution_count": 6,
          "metadata": {},
          "output_type": "execute_result"
        }
      ],
      "source": [
        "df.head()"
      ]
    },
    {
      "cell_type": "code",
      "execution_count": 7,
      "metadata": {
        "colab": {
          "base_uri": "https://localhost:8080/",
          "height": 471
        },
        "id": "oWYd9roXwsP7",
        "outputId": "7c131890-6f7f-4eae-bc39-6f5a54264ba4"
      },
      "outputs": [
        {
          "data": {
            "text/plain": [
              "<AxesSubplot:xlabel='Sentiment', ylabel='count'>"
            ]
          },
          "execution_count": 8,
          "metadata": {},
          "output_type": "execute_result"
        },
        {
          "data": {
            "image/png": "[encoded data removed]",
            "text/plain": [
              "<Figure size 640x480 with 1 Axes>"
            ]
          },
          "metadata": {},
          "output_type": "display_data"
        }
      ],
      "source": [
        "sns.countplot(x=df[\"Sentiment\"])"
      ]
    },
    {
      "cell_type": "code",
      "execution_count": 9,
      "metadata": {
        "colab": {
          "base_uri": "https://localhost:8080/",
          "height": 415
        },
        "id": "eJhVQOf5xFVw",
        "outputId": "7e00cb8c-f699-48a9-da14-67a9c7f83811"
      },
      "outputs": [
        {
          "data": {
            "image/png": "[encoded data removed]",
            "text/plain": [
              "<Figure size 600x400 with 1 Axes>"
            ]
          },
          "metadata": {},
          "output_type": "display_data"
        }
      ],
      "source": [
        "plt.figure(figsize = (6, 4))\n",
        "df[\"length\"] = df[\"reviewText\"].apply(lambda x: len(x))\n",
        "df[\"length\"].hist(bins = 50)\n",
        "plt.title(\"Histogram of Review Lengths\")\n",
        "plt.xlabel(\"Review Length\")\n",
        "plt.ylabel(\"Frequency\")\n",
        "plt.show()"
      ]
    },
    {
      "attachments": {},
      "cell_type": "markdown",
      "metadata": {
        "id": "d4p8un0E1ZRJ"
      },
      "source": [
        "# Pre_Processing"
      ]
    },
    {
      "cell_type": "markdown",
      "metadata": {
        "id": "5hAgDUAP1v6u"
      },
      "source": [
        "**Numerical Normalization**"
      ]
    },
    {
      "cell_type": "code",
      "execution_count": 10,
      "metadata": {
        "id": "yhx0Lvy_dYQX"
      },
      "outputs": [],
      "source": [
        "df[\"Sentiment\"] = (df[\"Sentiment\"] == \"Positive\").astype(int)"
      ]
    },
    {
      "cell_type": "code",
      "execution_count": 11,
      "metadata": {
        "colab": {
          "base_uri": "https://localhost:8080/",
          "height": 206
        },
        "id": "mqkMFvIe18Bb",
        "outputId": "a239c9aa-555a-4b13-999d-849b90d1e2ef"
      },
      "outputs": [
        {
          "data": {
            "text/html": [
              "<div>\n",
              "<style scoped>\n",
              "    .dataframe tbody tr th:only-of-type {\n",
              "        vertical-align: middle;\n",
              "    }\n",
              "\n",
              "    .dataframe tbody tr th {\n",
              "        vertical-align: top;\n",
              "    }\n",
              "\n",
              "    .dataframe thead th {\n",
              "        text-align: right;\n",
              "    }\n",
              "</style>\n",
              "<table border=\"1\" class=\"dataframe\">\n",
              "  <thead>\n",
              "    <tr style=\"text-align: right;\">\n",
              "      <th></th>\n",
              "      <th>reviewText</th>\n",
              "      <th>Sentiment</th>\n",
              "      <th>length</th>\n",
              "    </tr>\n",
              "  </thead>\n",
              "  <tbody>\n",
              "    <tr>\n",
              "      <th>0</th>\n",
              "      <td>This is a one of the best apps acording to a b...</td>\n",
              "      <td>1</td>\n",
              "      <td>129</td>\n",
              "    </tr>\n",
              "    <tr>\n",
              "      <th>1</th>\n",
              "      <td>This is a pretty good version of the game for ...</td>\n",
              "      <td>1</td>\n",
              "      <td>129</td>\n",
              "    </tr>\n",
              "    <tr>\n",
              "      <th>2</th>\n",
              "      <td>this is a really cool game. there are a bunch ...</td>\n",
              "      <td>1</td>\n",
              "      <td>96</td>\n",
              "    </tr>\n",
              "    <tr>\n",
              "      <th>3</th>\n",
              "      <td>This is a silly game and can be frustrating, b...</td>\n",
              "      <td>1</td>\n",
              "      <td>105</td>\n",
              "    </tr>\n",
              "    <tr>\n",
              "      <th>4</th>\n",
              "      <td>This is a terrific game on any pad. Hrs of fun...</td>\n",
              "      <td>1</td>\n",
              "      <td>117</td>\n",
              "    </tr>\n",
              "  </tbody>\n",
              "</table>\n",
              "</div>"
            ],
            "text/plain": [
              "                                          reviewText  Sentiment  length\n",
              "0  This is a one of the best apps acording to a b...          1     129\n",
              "1  This is a pretty good version of the game for ...          1     129\n",
              "2  this is a really cool game. there are a bunch ...          1      96\n",
              "3  This is a silly game and can be frustrating, b...          1     105\n",
              "4  This is a terrific game on any pad. Hrs of fun...          1     117"
            ]
          },
          "execution_count": 12,
          "metadata": {},
          "output_type": "execute_result"
        }
      ],
      "source": [
        "df.head()"
      ]
    },
    {
      "cell_type": "markdown",
      "metadata": {
        "id": "Ex6qIJ8t6Nsv"
      },
      "source": [
        "# Sentence Normalization\n",
        "\n",
        "1.   **Cleaning data**\n",
        "2.   **Removing stopwords**\n",
        "3.   **Stemming**"
      ]
    },
    {
      "cell_type": "markdown",
      "metadata": {
        "id": "ZfjzFm6tO11m"
      },
      "source": [
        "Cleaning data:\n",
        "\n",
        "1. Convert the text to lowercase\n",
        "2. Remove any non-alphanumeric characters (excluding whitespace) from the\n",
        "   lowercased text and This step removes punctuation and special characters."
      ]
    },
    {
      "cell_type": "code",
      "execution_count": 13,
      "metadata": {
        "id": "dyBEvFT4fqiG"
      },
      "outputs": [],
      "source": [
        "import re\n",
        "def normalize_texts(texts):\n",
        "    normalized_texts = []\n",
        "    for text in texts:\n",
        "        lower = text.lower()\n",
        "        normalized_texts.append(re.sub(r'[^\\w\\s]', '', lower))\n",
        "    return normalized_texts\n",
        "\n",
        "df['reviewText'] = normalize_texts(df['reviewText'])"
      ]
    },
    {
      "cell_type": "code",
      "execution_count": 14,
      "metadata": {
        "colab": {
          "base_uri": "https://localhost:8080/"
        },
        "id": "HgxFfB-7ru6T",
        "outputId": "2bd7ae32-a74d-4f2b-c12b-7cd079e15a69"
      },
      "outputs": [
        {
          "data": {
            "text/plain": [
              "0        one best app acord bunch peopl agre bomb egg p...\n",
              "1        pretti good version game free lot differ level...\n",
              "2        realli cool game bunch level find golden egg s...\n",
              "3        silli game frustrat lot fun definit recommend ...\n",
              "4        terrif game pad hrs fun grandkid love great en...\n",
              "                               ...                        \n",
              "19995    app fricken stupidit froze kindl wont allow pl...\n",
              "19996    pleas add need neighbor ginger1016 thank bunch...\n",
              "19997    love game awesom wish free stuff hous didnt co...\n",
              "19998    love love love app side fashion stori fight wo...\n",
              "19999    game rip list thing make betterbul first need ...\n",
              "Name: reviewText, Length: 20000, dtype: object"
            ]
          },
          "execution_count": 15,
          "metadata": {},
          "output_type": "execute_result"
        }
      ],
      "source": [
        "df['reviewText']"
      ]
    },
    {
      "cell_type": "code",
      "execution_count": 16,
      "metadata": {
        "id": "5ioWJRFOa9jv"
      },
      "outputs": [],
      "source": [
        "tokens = df['reviewText'].apply(word_tokenize)"
      ]
    },
    {
      "cell_type": "markdown",
      "metadata": {
        "id": "1hy5g2StRBPL"
      },
      "source": [
        "Removing stopwords and stemming:\n",
        "\n",
        "  1. It initializes a set of stopwords using stopwords.words('english'). This set contains common English words like \"the,\" \"and,\" \"is,\" etc., which are considered stopwords and typically removed from text during NLP tasks.\n",
        "\n",
        "  2. It creates an instance of the SnowballStemmer class with the language set to 'english'. Stemming is the process of reducing words to their base or root form. The SnowballStemmer uses the Snowball algorithm for stemming."
      ]
    },
    {
      "cell_type": "code",
      "execution_count": 17,
      "metadata": {
        "id": "g_Ucv4M4p9uM"
      },
      "outputs": [],
      "source": [
        "def remove_stopwords_and_stemming(tokens):\n",
        "    stop_words = set(stopwords.words('english'))\n",
        "    stemmer = nltk.stem.snowball.SnowballStemmer(\"english\")\n",
        "    filtered_tokens = [stemmer.stem(token) for token in tokens if token.lower() not in stop_words]\n",
        "    filtered_sentence = ' '.join(filtered_tokens)\n",
        "    return filtered_sentence\n",
        "df['reviewText'] = tokens.apply(remove_stopwords_and_stemming)"
      ]
    },
    {
      "cell_type": "code",
      "execution_count": 18,
      "metadata": {
        "colab": {
          "base_uri": "https://localhost:8080/"
        },
        "id": "lrw0JPVzAMH6",
        "outputId": "055a47d7-c545-48ab-8810-15fd2778b2c6"
      },
      "outputs": [
        {
          "data": {
            "text/plain": [
              "0        one best app acord bunch peopl agre bomb egg p...\n",
              "1        pretti good version game free lot differ level...\n",
              "2        realli cool game bunch level find golden egg s...\n",
              "3        silli game frustrat lot fun definit recommend ...\n",
              "4        terrif game pad hrs fun grandkid love great en...\n",
              "                               ...                        \n",
              "19995    app fricken stupidit froze kindl wont allow pl...\n",
              "19996    pleas add need neighbor ginger1016 thank bunch...\n",
              "19997    love game awesom wish free stuff hous didnt co...\n",
              "19998    love love love app side fashion stori fight wo...\n",
              "19999    game rip list thing make betterbul first need ...\n",
              "Name: reviewText, Length: 20000, dtype: object"
            ]
          },
          "execution_count": 19,
          "metadata": {},
          "output_type": "execute_result"
        }
      ],
      "source": [
        "df['reviewText']"
      ]
    },
    {
      "attachments": {},
      "cell_type": "markdown",
      "metadata": {
        "id": "nziL1EIqBbFX"
      },
      "source": [
        "# Splitting Data"
      ]
    },
    {
      "cell_type": "code",
      "execution_count": 20,
      "metadata": {
        "id": "KdMyt8SAdgOS"
      },
      "outputs": [],
      "source": [
        "train, test = np.split(df.sample(frac=1), [int(0.8*len(df))])"
      ]
    },
    {
      "cell_type": "code",
      "execution_count": 21,
      "metadata": {
        "id": "D8kSKHMleENr"
      },
      "outputs": [],
      "source": [
        "def get_labels_and_texts(dataframe):\n",
        "    labels = []\n",
        "    texts = []\n",
        "    labels = dataframe['Sentiment']\n",
        "    texts = dataframe['reviewText']\n",
        "    return np.array(labels), texts\n",
        "train_labels, train_texts = get_labels_and_texts(train)\n",
        "test_labels, test_texts = get_labels_and_texts(test)\n"
      ]
    },
    {
      "cell_type": "markdown",
      "metadata": {
        "id": "DoAEfi8ajTYB"
      },
      "source": [
        "# Sentence Vectorization\n",
        "\n",
        "1.    **CountVectorizing :**\n",
        "> converts text documents into numerical vectors based on word frequencies, enabling machine learning algorithms to process the data effectively. It represents each document as a vector where each element corresponds to the count of a unique word or term from the vocabulary.\n",
        "\n",
        "\n"
      ]
    },
    {
      "cell_type": "code",
      "execution_count": 22,
      "metadata": {
        "id": "Df87mAAqjVRS"
      },
      "outputs": [],
      "source": [
        "from sklearn.feature_extraction.text import CountVectorizer\n",
        "cv = CountVectorizer()"
      ]
    },
    {
      "cell_type": "code",
      "execution_count": 23,
      "metadata": {
        "colab": {
          "base_uri": "https://localhost:8080/"
        },
        "id": "eAtggpDMj4uI",
        "outputId": "fd8c0b1d-22ce-49c7-fc6e-5ffa28230c91"
      },
      "outputs": [
        {
          "data": {
            "text/plain": [
              "<16000x16078 sparse matrix of type '<class 'numpy.int64'>'\n",
              "\twith 246072 stored elements in Compressed Sparse Row format>"
            ]
          },
          "execution_count": 24,
          "metadata": {},
          "output_type": "execute_result"
        }
      ],
      "source": [
        "x_train = cv.fit_transform(train_texts)\n",
        "x_train"
      ]
    },
    {
      "cell_type": "code",
      "execution_count": 25,
      "metadata": {
        "id": "L4O0S5hJ-9pJ",
        "outputId": "195c2217-911d-48b1-a4ee-036a88e8c441"
      },
      "outputs": [
        {
          "data": {
            "text/html": [
              "<div>\n",
              "<style scoped>\n",
              "    .dataframe tbody tr th:only-of-type {\n",
              "        vertical-align: middle;\n",
              "    }\n",
              "\n",
              "    .dataframe tbody tr th {\n",
              "        vertical-align: top;\n",
              "    }\n",
              "\n",
              "    .dataframe thead th {\n",
              "        text-align: right;\n",
              "    }\n",
              "</style>\n",
              "<table border=\"1\" class=\"dataframe\">\n",
              "  <thead>\n",
              "    <tr style=\"text-align: right;\">\n",
              "      <th></th>\n",
              "      <th>0</th>\n",
              "      <th>1</th>\n",
              "      <th>2</th>\n",
              "      <th>3</th>\n",
              "      <th>4</th>\n",
              "      <th>5</th>\n",
              "      <th>6</th>\n",
              "      <th>7</th>\n",
              "      <th>8</th>\n",
              "      <th>9</th>\n",
              "      <th>...</th>\n",
              "      <th>16029</th>\n",
              "      <th>16030</th>\n",
              "      <th>16031</th>\n",
              "      <th>16032</th>\n",
              "      <th>16033</th>\n",
              "      <th>16034</th>\n",
              "      <th>16035</th>\n",
              "      <th>16036</th>\n",
              "      <th>16037</th>\n",
              "      <th>16038</th>\n",
              "    </tr>\n",
              "  </thead>\n",
              "  <tbody>\n",
              "    <tr>\n",
              "      <th>0</th>\n",
              "      <td>0</td>\n",
              "      <td>0</td>\n",
              "      <td>0</td>\n",
              "      <td>0</td>\n",
              "      <td>0</td>\n",
              "      <td>0</td>\n",
              "      <td>0</td>\n",
              "      <td>0</td>\n",
              "      <td>0</td>\n",
              "      <td>0</td>\n",
              "      <td>...</td>\n",
              "      <td>0</td>\n",
              "      <td>0</td>\n",
              "      <td>0</td>\n",
              "      <td>0</td>\n",
              "      <td>0</td>\n",
              "      <td>0</td>\n",
              "      <td>0</td>\n",
              "      <td>0</td>\n",
              "      <td>0</td>\n",
              "      <td>0</td>\n",
              "    </tr>\n",
              "    <tr>\n",
              "      <th>1</th>\n",
              "      <td>0</td>\n",
              "      <td>0</td>\n",
              "      <td>0</td>\n",
              "      <td>0</td>\n",
              "      <td>0</td>\n",
              "      <td>0</td>\n",
              "      <td>0</td>\n",
              "      <td>0</td>\n",
              "      <td>0</td>\n",
              "      <td>0</td>\n",
              "      <td>...</td>\n",
              "      <td>0</td>\n",
              "      <td>0</td>\n",
              "      <td>0</td>\n",
              "      <td>0</td>\n",
              "      <td>0</td>\n",
              "      <td>0</td>\n",
              "      <td>0</td>\n",
              "      <td>0</td>\n",
              "      <td>0</td>\n",
              "      <td>0</td>\n",
              "    </tr>\n",
              "    <tr>\n",
              "      <th>2</th>\n",
              "      <td>0</td>\n",
              "      <td>0</td>\n",
              "      <td>0</td>\n",
              "      <td>0</td>\n",
              "      <td>0</td>\n",
              "      <td>0</td>\n",
              "      <td>0</td>\n",
              "      <td>0</td>\n",
              "      <td>0</td>\n",
              "      <td>0</td>\n",
              "      <td>...</td>\n",
              "      <td>0</td>\n",
              "      <td>0</td>\n",
              "      <td>0</td>\n",
              "      <td>0</td>\n",
              "      <td>0</td>\n",
              "      <td>0</td>\n",
              "      <td>0</td>\n",
              "      <td>0</td>\n",
              "      <td>0</td>\n",
              "      <td>0</td>\n",
              "    </tr>\n",
              "    <tr>\n",
              "      <th>3</th>\n",
              "      <td>0</td>\n",
              "      <td>0</td>\n",
              "      <td>0</td>\n",
              "      <td>0</td>\n",
              "      <td>0</td>\n",
              "      <td>0</td>\n",
              "      <td>0</td>\n",
              "      <td>0</td>\n",
              "      <td>0</td>\n",
              "      <td>0</td>\n",
              "      <td>...</td>\n",
              "      <td>0</td>\n",
              "      <td>0</td>\n",
              "      <td>0</td>\n",
              "      <td>0</td>\n",
              "      <td>0</td>\n",
              "      <td>0</td>\n",
              "      <td>0</td>\n",
              "      <td>0</td>\n",
              "      <td>0</td>\n",
              "      <td>0</td>\n",
              "    </tr>\n",
              "    <tr>\n",
              "      <th>4</th>\n",
              "      <td>0</td>\n",
              "      <td>0</td>\n",
              "      <td>0</td>\n",
              "      <td>0</td>\n",
              "      <td>0</td>\n",
              "      <td>0</td>\n",
              "      <td>0</td>\n",
              "      <td>0</td>\n",
              "      <td>0</td>\n",
              "      <td>0</td>\n",
              "      <td>...</td>\n",
              "      <td>0</td>\n",
              "      <td>0</td>\n",
              "      <td>0</td>\n",
              "      <td>0</td>\n",
              "      <td>0</td>\n",
              "      <td>0</td>\n",
              "      <td>0</td>\n",
              "      <td>0</td>\n",
              "      <td>0</td>\n",
              "      <td>0</td>\n",
              "    </tr>\n",
              "    <tr>\n",
              "      <th>...</th>\n",
              "      <td>...</td>\n",
              "      <td>...</td>\n",
              "      <td>...</td>\n",
              "      <td>...</td>\n",
              "      <td>...</td>\n",
              "      <td>...</td>\n",
              "      <td>...</td>\n",
              "      <td>...</td>\n",
              "      <td>...</td>\n",
              "      <td>...</td>\n",
              "      <td>...</td>\n",
              "      <td>...</td>\n",
              "      <td>...</td>\n",
              "      <td>...</td>\n",
              "      <td>...</td>\n",
              "      <td>...</td>\n",
              "      <td>...</td>\n",
              "      <td>...</td>\n",
              "      <td>...</td>\n",
              "      <td>...</td>\n",
              "      <td>...</td>\n",
              "    </tr>\n",
              "    <tr>\n",
              "      <th>15995</th>\n",
              "      <td>0</td>\n",
              "      <td>0</td>\n",
              "      <td>0</td>\n",
              "      <td>0</td>\n",
              "      <td>0</td>\n",
              "      <td>0</td>\n",
              "      <td>0</td>\n",
              "      <td>0</td>\n",
              "      <td>0</td>\n",
              "      <td>0</td>\n",
              "      <td>...</td>\n",
              "      <td>0</td>\n",
              "      <td>0</td>\n",
              "      <td>0</td>\n",
              "      <td>0</td>\n",
              "      <td>0</td>\n",
              "      <td>0</td>\n",
              "      <td>0</td>\n",
              "      <td>0</td>\n",
              "      <td>0</td>\n",
              "      <td>0</td>\n",
              "    </tr>\n",
              "    <tr>\n",
              "      <th>15996</th>\n",
              "      <td>0</td>\n",
              "      <td>0</td>\n",
              "      <td>0</td>\n",
              "      <td>0</td>\n",
              "      <td>0</td>\n",
              "      <td>0</td>\n",
              "      <td>0</td>\n",
              "      <td>0</td>\n",
              "      <td>0</td>\n",
              "      <td>0</td>\n",
              "      <td>...</td>\n",
              "      <td>0</td>\n",
              "      <td>0</td>\n",
              "      <td>0</td>\n",
              "      <td>0</td>\n",
              "      <td>0</td>\n",
              "      <td>0</td>\n",
              "      <td>0</td>\n",
              "      <td>0</td>\n",
              "      <td>0</td>\n",
              "      <td>0</td>\n",
              "    </tr>\n",
              "    <tr>\n",
              "      <th>15997</th>\n",
              "      <td>0</td>\n",
              "      <td>0</td>\n",
              "      <td>0</td>\n",
              "      <td>0</td>\n",
              "      <td>0</td>\n",
              "      <td>0</td>\n",
              "      <td>0</td>\n",
              "      <td>0</td>\n",
              "      <td>0</td>\n",
              "      <td>0</td>\n",
              "      <td>...</td>\n",
              "      <td>0</td>\n",
              "      <td>0</td>\n",
              "      <td>0</td>\n",
              "      <td>0</td>\n",
              "      <td>0</td>\n",
              "      <td>0</td>\n",
              "      <td>0</td>\n",
              "      <td>0</td>\n",
              "      <td>0</td>\n",
              "      <td>0</td>\n",
              "    </tr>\n",
              "    <tr>\n",
              "      <th>15998</th>\n",
              "      <td>0</td>\n",
              "      <td>0</td>\n",
              "      <td>0</td>\n",
              "      <td>0</td>\n",
              "      <td>0</td>\n",
              "      <td>0</td>\n",
              "      <td>0</td>\n",
              "      <td>0</td>\n",
              "      <td>0</td>\n",
              "      <td>0</td>\n",
              "      <td>...</td>\n",
              "      <td>0</td>\n",
              "      <td>0</td>\n",
              "      <td>0</td>\n",
              "      <td>0</td>\n",
              "      <td>0</td>\n",
              "      <td>0</td>\n",
              "      <td>0</td>\n",
              "      <td>0</td>\n",
              "      <td>0</td>\n",
              "      <td>0</td>\n",
              "    </tr>\n",
              "    <tr>\n",
              "      <th>15999</th>\n",
              "      <td>0</td>\n",
              "      <td>0</td>\n",
              "      <td>0</td>\n",
              "      <td>0</td>\n",
              "      <td>0</td>\n",
              "      <td>0</td>\n",
              "      <td>0</td>\n",
              "      <td>0</td>\n",
              "      <td>0</td>\n",
              "      <td>0</td>\n",
              "      <td>...</td>\n",
              "      <td>0</td>\n",
              "      <td>0</td>\n",
              "      <td>0</td>\n",
              "      <td>0</td>\n",
              "      <td>0</td>\n",
              "      <td>0</td>\n",
              "      <td>0</td>\n",
              "      <td>0</td>\n",
              "      <td>0</td>\n",
              "      <td>0</td>\n",
              "    </tr>\n",
              "  </tbody>\n",
              "</table>\n",
              "<p>16000 rows × 16039 columns</p>\n",
              "</div>"
            ],
            "text/plain": [
              "       0      1      2      3      4      5      6      7      8      9      \\\n",
              "0          0      0      0      0      0      0      0      0      0      0   \n",
              "1          0      0      0      0      0      0      0      0      0      0   \n",
              "2          0      0      0      0      0      0      0      0      0      0   \n",
              "3          0      0      0      0      0      0      0      0      0      0   \n",
              "4          0      0      0      0      0      0      0      0      0      0   \n",
              "...      ...    ...    ...    ...    ...    ...    ...    ...    ...    ...   \n",
              "15995      0      0      0      0      0      0      0      0      0      0   \n",
              "15996      0      0      0      0      0      0      0      0      0      0   \n",
              "15997      0      0      0      0      0      0      0      0      0      0   \n",
              "15998      0      0      0      0      0      0      0      0      0      0   \n",
              "15999      0      0      0      0      0      0      0      0      0      0   \n",
              "\n",
              "       ...  16029  16030  16031  16032  16033  16034  16035  16036  16037  \\\n",
              "0      ...      0      0      0      0      0      0      0      0      0   \n",
              "1      ...      0      0      0      0      0      0      0      0      0   \n",
              "2      ...      0      0      0      0      0      0      0      0      0   \n",
              "3      ...      0      0      0      0      0      0      0      0      0   \n",
              "4      ...      0      0      0      0      0      0      0      0      0   \n",
              "...    ...    ...    ...    ...    ...    ...    ...    ...    ...    ...   \n",
              "15995  ...      0      0      0      0      0      0      0      0      0   \n",
              "15996  ...      0      0      0      0      0      0      0      0      0   \n",
              "15997  ...      0      0      0      0      0      0      0      0      0   \n",
              "15998  ...      0      0      0      0      0      0      0      0      0   \n",
              "15999  ...      0      0      0      0      0      0      0      0      0   \n",
              "\n",
              "       16038  \n",
              "0          0  \n",
              "1          0  \n",
              "2          0  \n",
              "3          0  \n",
              "4          0  \n",
              "...      ...  \n",
              "15995      0  \n",
              "15996      0  \n",
              "15997      0  \n",
              "15998      0  \n",
              "15999      0  \n",
              "\n",
              "[16000 rows x 16039 columns]"
            ]
          },
          "execution_count": 26,
          "metadata": {},
          "output_type": "execute_result"
        }
      ],
      "source": [
        "pd.DataFrame.sparse.from_spmatrix(x_train)"
      ]
    },
    {
      "cell_type": "code",
      "execution_count": 27,
      "metadata": {
        "colab": {
          "base_uri": "https://localhost:8080/"
        },
        "id": "k0VIfX5sj6lk",
        "outputId": "7bec4825-dc83-447a-f142-b7224f593f06"
      },
      "outputs": [
        {
          "data": {
            "text/plain": [
              "<4000x16078 sparse matrix of type '<class 'numpy.int64'>'\n",
              "\twith 58975 stored elements in Compressed Sparse Row format>"
            ]
          },
          "execution_count": 28,
          "metadata": {},
          "output_type": "execute_result"
        }
      ],
      "source": [
        "x_test = cv.transform(test_texts)\n",
        "x_test"
      ]
    },
    {
      "cell_type": "code",
      "execution_count": 29,
      "metadata": {
        "colab": {
          "base_uri": "https://localhost:8080/",
          "height": 423
        },
        "id": "GRmZvEWbPuX7",
        "outputId": "a001536f-d207-4e29-c014-3e08261244f1"
      },
      "outputs": [
        {
          "data": {
            "text/html": [
              "<div>\n",
              "<style scoped>\n",
              "    .dataframe tbody tr th:only-of-type {\n",
              "        vertical-align: middle;\n",
              "    }\n",
              "\n",
              "    .dataframe tbody tr th {\n",
              "        vertical-align: top;\n",
              "    }\n",
              "\n",
              "    .dataframe thead th {\n",
              "        text-align: right;\n",
              "    }\n",
              "</style>\n",
              "<table border=\"1\" class=\"dataframe\">\n",
              "  <thead>\n",
              "    <tr style=\"text-align: right;\">\n",
              "      <th></th>\n",
              "      <th>0</th>\n",
              "      <th>1</th>\n",
              "      <th>2</th>\n",
              "      <th>3</th>\n",
              "      <th>4</th>\n",
              "      <th>5</th>\n",
              "      <th>6</th>\n",
              "      <th>7</th>\n",
              "      <th>8</th>\n",
              "      <th>9</th>\n",
              "      <th>...</th>\n",
              "      <th>16029</th>\n",
              "      <th>16030</th>\n",
              "      <th>16031</th>\n",
              "      <th>16032</th>\n",
              "      <th>16033</th>\n",
              "      <th>16034</th>\n",
              "      <th>16035</th>\n",
              "      <th>16036</th>\n",
              "      <th>16037</th>\n",
              "      <th>16038</th>\n",
              "    </tr>\n",
              "  </thead>\n",
              "  <tbody>\n",
              "    <tr>\n",
              "      <th>0</th>\n",
              "      <td>0</td>\n",
              "      <td>0</td>\n",
              "      <td>0</td>\n",
              "      <td>0</td>\n",
              "      <td>0</td>\n",
              "      <td>0</td>\n",
              "      <td>0</td>\n",
              "      <td>0</td>\n",
              "      <td>0</td>\n",
              "      <td>0</td>\n",
              "      <td>...</td>\n",
              "      <td>0</td>\n",
              "      <td>0</td>\n",
              "      <td>0</td>\n",
              "      <td>0</td>\n",
              "      <td>0</td>\n",
              "      <td>0</td>\n",
              "      <td>0</td>\n",
              "      <td>0</td>\n",
              "      <td>0</td>\n",
              "      <td>0</td>\n",
              "    </tr>\n",
              "    <tr>\n",
              "      <th>1</th>\n",
              "      <td>0</td>\n",
              "      <td>0</td>\n",
              "      <td>0</td>\n",
              "      <td>0</td>\n",
              "      <td>0</td>\n",
              "      <td>0</td>\n",
              "      <td>0</td>\n",
              "      <td>0</td>\n",
              "      <td>0</td>\n",
              "      <td>0</td>\n",
              "      <td>...</td>\n",
              "      <td>0</td>\n",
              "      <td>0</td>\n",
              "      <td>0</td>\n",
              "      <td>0</td>\n",
              "      <td>0</td>\n",
              "      <td>0</td>\n",
              "      <td>0</td>\n",
              "      <td>0</td>\n",
              "      <td>0</td>\n",
              "      <td>0</td>\n",
              "    </tr>\n",
              "    <tr>\n",
              "      <th>2</th>\n",
              "      <td>0</td>\n",
              "      <td>0</td>\n",
              "      <td>0</td>\n",
              "      <td>0</td>\n",
              "      <td>0</td>\n",
              "      <td>0</td>\n",
              "      <td>0</td>\n",
              "      <td>0</td>\n",
              "      <td>0</td>\n",
              "      <td>0</td>\n",
              "      <td>...</td>\n",
              "      <td>0</td>\n",
              "      <td>0</td>\n",
              "      <td>0</td>\n",
              "      <td>0</td>\n",
              "      <td>0</td>\n",
              "      <td>0</td>\n",
              "      <td>0</td>\n",
              "      <td>0</td>\n",
              "      <td>0</td>\n",
              "      <td>0</td>\n",
              "    </tr>\n",
              "    <tr>\n",
              "      <th>3</th>\n",
              "      <td>0</td>\n",
              "      <td>0</td>\n",
              "      <td>0</td>\n",
              "      <td>0</td>\n",
              "      <td>0</td>\n",
              "      <td>0</td>\n",
              "      <td>0</td>\n",
              "      <td>0</td>\n",
              "      <td>0</td>\n",
              "      <td>0</td>\n",
              "      <td>...</td>\n",
              "      <td>0</td>\n",
              "      <td>0</td>\n",
              "      <td>0</td>\n",
              "      <td>0</td>\n",
              "      <td>0</td>\n",
              "      <td>0</td>\n",
              "      <td>0</td>\n",
              "      <td>0</td>\n",
              "      <td>0</td>\n",
              "      <td>0</td>\n",
              "    </tr>\n",
              "    <tr>\n",
              "      <th>4</th>\n",
              "      <td>0</td>\n",
              "      <td>0</td>\n",
              "      <td>0</td>\n",
              "      <td>0</td>\n",
              "      <td>0</td>\n",
              "      <td>0</td>\n",
              "      <td>0</td>\n",
              "      <td>0</td>\n",
              "      <td>0</td>\n",
              "      <td>0</td>\n",
              "      <td>...</td>\n",
              "      <td>0</td>\n",
              "      <td>0</td>\n",
              "      <td>0</td>\n",
              "      <td>0</td>\n",
              "      <td>0</td>\n",
              "      <td>0</td>\n",
              "      <td>0</td>\n",
              "      <td>0</td>\n",
              "      <td>0</td>\n",
              "      <td>0</td>\n",
              "    </tr>\n",
              "    <tr>\n",
              "      <th>...</th>\n",
              "      <td>...</td>\n",
              "      <td>...</td>\n",
              "      <td>...</td>\n",
              "      <td>...</td>\n",
              "      <td>...</td>\n",
              "      <td>...</td>\n",
              "      <td>...</td>\n",
              "      <td>...</td>\n",
              "      <td>...</td>\n",
              "      <td>...</td>\n",
              "      <td>...</td>\n",
              "      <td>...</td>\n",
              "      <td>...</td>\n",
              "      <td>...</td>\n",
              "      <td>...</td>\n",
              "      <td>...</td>\n",
              "      <td>...</td>\n",
              "      <td>...</td>\n",
              "      <td>...</td>\n",
              "      <td>...</td>\n",
              "      <td>...</td>\n",
              "    </tr>\n",
              "    <tr>\n",
              "      <th>3995</th>\n",
              "      <td>0</td>\n",
              "      <td>0</td>\n",
              "      <td>0</td>\n",
              "      <td>0</td>\n",
              "      <td>0</td>\n",
              "      <td>0</td>\n",
              "      <td>0</td>\n",
              "      <td>0</td>\n",
              "      <td>0</td>\n",
              "      <td>0</td>\n",
              "      <td>...</td>\n",
              "      <td>0</td>\n",
              "      <td>0</td>\n",
              "      <td>0</td>\n",
              "      <td>0</td>\n",
              "      <td>0</td>\n",
              "      <td>0</td>\n",
              "      <td>0</td>\n",
              "      <td>0</td>\n",
              "      <td>0</td>\n",
              "      <td>0</td>\n",
              "    </tr>\n",
              "    <tr>\n",
              "      <th>3996</th>\n",
              "      <td>0</td>\n",
              "      <td>0</td>\n",
              "      <td>0</td>\n",
              "      <td>0</td>\n",
              "      <td>0</td>\n",
              "      <td>0</td>\n",
              "      <td>0</td>\n",
              "      <td>0</td>\n",
              "      <td>0</td>\n",
              "      <td>0</td>\n",
              "      <td>...</td>\n",
              "      <td>0</td>\n",
              "      <td>0</td>\n",
              "      <td>0</td>\n",
              "      <td>0</td>\n",
              "      <td>0</td>\n",
              "      <td>0</td>\n",
              "      <td>0</td>\n",
              "      <td>0</td>\n",
              "      <td>0</td>\n",
              "      <td>0</td>\n",
              "    </tr>\n",
              "    <tr>\n",
              "      <th>3997</th>\n",
              "      <td>0</td>\n",
              "      <td>0</td>\n",
              "      <td>0</td>\n",
              "      <td>0</td>\n",
              "      <td>0</td>\n",
              "      <td>0</td>\n",
              "      <td>0</td>\n",
              "      <td>0</td>\n",
              "      <td>0</td>\n",
              "      <td>0</td>\n",
              "      <td>...</td>\n",
              "      <td>0</td>\n",
              "      <td>0</td>\n",
              "      <td>0</td>\n",
              "      <td>0</td>\n",
              "      <td>0</td>\n",
              "      <td>0</td>\n",
              "      <td>0</td>\n",
              "      <td>0</td>\n",
              "      <td>0</td>\n",
              "      <td>0</td>\n",
              "    </tr>\n",
              "    <tr>\n",
              "      <th>3998</th>\n",
              "      <td>0</td>\n",
              "      <td>0</td>\n",
              "      <td>0</td>\n",
              "      <td>0</td>\n",
              "      <td>0</td>\n",
              "      <td>0</td>\n",
              "      <td>0</td>\n",
              "      <td>0</td>\n",
              "      <td>0</td>\n",
              "      <td>0</td>\n",
              "      <td>...</td>\n",
              "      <td>0</td>\n",
              "      <td>0</td>\n",
              "      <td>0</td>\n",
              "      <td>0</td>\n",
              "      <td>0</td>\n",
              "      <td>0</td>\n",
              "      <td>0</td>\n",
              "      <td>0</td>\n",
              "      <td>0</td>\n",
              "      <td>0</td>\n",
              "    </tr>\n",
              "    <tr>\n",
              "      <th>3999</th>\n",
              "      <td>0</td>\n",
              "      <td>0</td>\n",
              "      <td>0</td>\n",
              "      <td>0</td>\n",
              "      <td>0</td>\n",
              "      <td>0</td>\n",
              "      <td>0</td>\n",
              "      <td>0</td>\n",
              "      <td>0</td>\n",
              "      <td>0</td>\n",
              "      <td>...</td>\n",
              "      <td>0</td>\n",
              "      <td>0</td>\n",
              "      <td>0</td>\n",
              "      <td>0</td>\n",
              "      <td>0</td>\n",
              "      <td>0</td>\n",
              "      <td>0</td>\n",
              "      <td>0</td>\n",
              "      <td>0</td>\n",
              "      <td>0</td>\n",
              "    </tr>\n",
              "  </tbody>\n",
              "</table>\n",
              "<p>4000 rows × 16039 columns</p>\n",
              "</div>"
            ],
            "text/plain": [
              "      0      1      2      3      4      5      6      7      8      9      \\\n",
              "0         0      0      0      0      0      0      0      0      0      0   \n",
              "1         0      0      0      0      0      0      0      0      0      0   \n",
              "2         0      0      0      0      0      0      0      0      0      0   \n",
              "3         0      0      0      0      0      0      0      0      0      0   \n",
              "4         0      0      0      0      0      0      0      0      0      0   \n",
              "...     ...    ...    ...    ...    ...    ...    ...    ...    ...    ...   \n",
              "3995      0      0      0      0      0      0      0      0      0      0   \n",
              "3996      0      0      0      0      0      0      0      0      0      0   \n",
              "3997      0      0      0      0      0      0      0      0      0      0   \n",
              "3998      0      0      0      0      0      0      0      0      0      0   \n",
              "3999      0      0      0      0      0      0      0      0      0      0   \n",
              "\n",
              "      ...  16029  16030  16031  16032  16033  16034  16035  16036  16037  \\\n",
              "0     ...      0      0      0      0      0      0      0      0      0   \n",
              "1     ...      0      0      0      0      0      0      0      0      0   \n",
              "2     ...      0      0      0      0      0      0      0      0      0   \n",
              "3     ...      0      0      0      0      0      0      0      0      0   \n",
              "4     ...      0      0      0      0      0      0      0      0      0   \n",
              "...   ...    ...    ...    ...    ...    ...    ...    ...    ...    ...   \n",
              "3995  ...      0      0      0      0      0      0      0      0      0   \n",
              "3996  ...      0      0      0      0      0      0      0      0      0   \n",
              "3997  ...      0      0      0      0      0      0      0      0      0   \n",
              "3998  ...      0      0      0      0      0      0      0      0      0   \n",
              "3999  ...      0      0      0      0      0      0      0      0      0   \n",
              "\n",
              "      16038  \n",
              "0         0  \n",
              "1         0  \n",
              "2         0  \n",
              "3         0  \n",
              "4         0  \n",
              "...     ...  \n",
              "3995      0  \n",
              "3996      0  \n",
              "3997      0  \n",
              "3998      0  \n",
              "3999      0  \n",
              "\n",
              "[4000 rows x 16039 columns]"
            ]
          },
          "execution_count": 30,
          "metadata": {},
          "output_type": "execute_result"
        }
      ],
      "source": [
        "pd.DataFrame.sparse.from_spmatrix(x_test)"
      ]
    },
    {
      "cell_type": "markdown",
      "metadata": {
        "id": "rmLsZ5AxFgtn"
      },
      "source": [
        "2.    **TF-IDF Vectorization :**\n",
        "\n",
        "> Represents text documents as numerical vectors by considering both term frequency (TF) and inverse document frequency (IDF). It assigns higher weights to words that are more informative within a document while downplaying common words that appear frequently across the entire corpus.\n",
        "\n",
        "\n",
        "\n",
        "\n",
        "\n",
        "\n"
      ]
    },
    {
      "cell_type": "code",
      "execution_count": 31,
      "metadata": {
        "id": "2B8O7C75u72z"
      },
      "outputs": [],
      "source": [
        "vectorizer = TfidfVectorizer(\n",
        "    max_df= 0.5,\n",
        "    min_df = 3\n",
        "    )"
      ]
    },
    {
      "cell_type": "code",
      "execution_count": 32,
      "metadata": {
        "id": "9oVNRVSz1kTZ"
      },
      "outputs": [],
      "source": [
        "x_train_tf = vectorizer.fit_transform(train_texts)\n",
        "x_test_tf = vectorizer.transform(test_texts)"
      ]
    },
    {
      "cell_type": "code",
      "execution_count": 33,
      "metadata": {
        "colab": {
          "base_uri": "https://localhost:8080/",
          "height": 487
        },
        "id": "6AaO-mmiHYyk",
        "outputId": "7f27786e-66cb-4e1f-d533-5ef7d910281f"
      },
      "outputs": [
        {
          "data": {
            "text/html": [
              "<div>\n",
              "<style scoped>\n",
              "    .dataframe tbody tr th:only-of-type {\n",
              "        vertical-align: middle;\n",
              "    }\n",
              "\n",
              "    .dataframe tbody tr th {\n",
              "        vertical-align: top;\n",
              "    }\n",
              "\n",
              "    .dataframe thead th {\n",
              "        text-align: right;\n",
              "    }\n",
              "</style>\n",
              "<table border=\"1\" class=\"dataframe\">\n",
              "  <thead>\n",
              "    <tr style=\"text-align: right;\">\n",
              "      <th></th>\n",
              "      <th>0</th>\n",
              "      <th>1</th>\n",
              "      <th>2</th>\n",
              "      <th>3</th>\n",
              "      <th>4</th>\n",
              "      <th>5</th>\n",
              "      <th>6</th>\n",
              "      <th>7</th>\n",
              "      <th>8</th>\n",
              "      <th>9</th>\n",
              "      <th>...</th>\n",
              "      <th>4368</th>\n",
              "      <th>4369</th>\n",
              "      <th>4370</th>\n",
              "      <th>4371</th>\n",
              "      <th>4372</th>\n",
              "      <th>4373</th>\n",
              "      <th>4374</th>\n",
              "      <th>4375</th>\n",
              "      <th>4376</th>\n",
              "      <th>4377</th>\n",
              "    </tr>\n",
              "  </thead>\n",
              "  <tbody>\n",
              "    <tr>\n",
              "      <th>0</th>\n",
              "      <td>0.0</td>\n",
              "      <td>0.0</td>\n",
              "      <td>0.0</td>\n",
              "      <td>0.0</td>\n",
              "      <td>0.0</td>\n",
              "      <td>0.0</td>\n",
              "      <td>0.0</td>\n",
              "      <td>0.0</td>\n",
              "      <td>0.0</td>\n",
              "      <td>0.0</td>\n",
              "      <td>...</td>\n",
              "      <td>0.0</td>\n",
              "      <td>0.0</td>\n",
              "      <td>0.0</td>\n",
              "      <td>0.0</td>\n",
              "      <td>0.0</td>\n",
              "      <td>0.0</td>\n",
              "      <td>0.0</td>\n",
              "      <td>0.0</td>\n",
              "      <td>0.0</td>\n",
              "      <td>0.0</td>\n",
              "    </tr>\n",
              "    <tr>\n",
              "      <th>1</th>\n",
              "      <td>0.0</td>\n",
              "      <td>0.0</td>\n",
              "      <td>0.0</td>\n",
              "      <td>0.0</td>\n",
              "      <td>0.0</td>\n",
              "      <td>0.0</td>\n",
              "      <td>0.0</td>\n",
              "      <td>0.0</td>\n",
              "      <td>0.0</td>\n",
              "      <td>0.0</td>\n",
              "      <td>...</td>\n",
              "      <td>0.0</td>\n",
              "      <td>0.0</td>\n",
              "      <td>0.0</td>\n",
              "      <td>0.0</td>\n",
              "      <td>0.0</td>\n",
              "      <td>0.0</td>\n",
              "      <td>0.0</td>\n",
              "      <td>0.0</td>\n",
              "      <td>0.0</td>\n",
              "      <td>0.0</td>\n",
              "    </tr>\n",
              "    <tr>\n",
              "      <th>2</th>\n",
              "      <td>0.0</td>\n",
              "      <td>0.0</td>\n",
              "      <td>0.0</td>\n",
              "      <td>0.0</td>\n",
              "      <td>0.0</td>\n",
              "      <td>0.0</td>\n",
              "      <td>0.0</td>\n",
              "      <td>0.0</td>\n",
              "      <td>0.0</td>\n",
              "      <td>0.0</td>\n",
              "      <td>...</td>\n",
              "      <td>0.0</td>\n",
              "      <td>0.0</td>\n",
              "      <td>0.0</td>\n",
              "      <td>0.0</td>\n",
              "      <td>0.0</td>\n",
              "      <td>0.0</td>\n",
              "      <td>0.0</td>\n",
              "      <td>0.0</td>\n",
              "      <td>0.0</td>\n",
              "      <td>0.0</td>\n",
              "    </tr>\n",
              "    <tr>\n",
              "      <th>3</th>\n",
              "      <td>0.0</td>\n",
              "      <td>0.0</td>\n",
              "      <td>0.0</td>\n",
              "      <td>0.0</td>\n",
              "      <td>0.0</td>\n",
              "      <td>0.0</td>\n",
              "      <td>0.0</td>\n",
              "      <td>0.0</td>\n",
              "      <td>0.0</td>\n",
              "      <td>0.0</td>\n",
              "      <td>...</td>\n",
              "      <td>0.0</td>\n",
              "      <td>0.0</td>\n",
              "      <td>0.0</td>\n",
              "      <td>0.0</td>\n",
              "      <td>0.0</td>\n",
              "      <td>0.0</td>\n",
              "      <td>0.0</td>\n",
              "      <td>0.0</td>\n",
              "      <td>0.0</td>\n",
              "      <td>0.0</td>\n",
              "    </tr>\n",
              "    <tr>\n",
              "      <th>4</th>\n",
              "      <td>0.0</td>\n",
              "      <td>0.0</td>\n",
              "      <td>0.0</td>\n",
              "      <td>0.0</td>\n",
              "      <td>0.0</td>\n",
              "      <td>0.0</td>\n",
              "      <td>0.0</td>\n",
              "      <td>0.0</td>\n",
              "      <td>0.0</td>\n",
              "      <td>0.0</td>\n",
              "      <td>...</td>\n",
              "      <td>0.0</td>\n",
              "      <td>0.0</td>\n",
              "      <td>0.0</td>\n",
              "      <td>0.0</td>\n",
              "      <td>0.0</td>\n",
              "      <td>0.0</td>\n",
              "      <td>0.0</td>\n",
              "      <td>0.0</td>\n",
              "      <td>0.0</td>\n",
              "      <td>0.0</td>\n",
              "    </tr>\n",
              "    <tr>\n",
              "      <th>...</th>\n",
              "      <td>...</td>\n",
              "      <td>...</td>\n",
              "      <td>...</td>\n",
              "      <td>...</td>\n",
              "      <td>...</td>\n",
              "      <td>...</td>\n",
              "      <td>...</td>\n",
              "      <td>...</td>\n",
              "      <td>...</td>\n",
              "      <td>...</td>\n",
              "      <td>...</td>\n",
              "      <td>...</td>\n",
              "      <td>...</td>\n",
              "      <td>...</td>\n",
              "      <td>...</td>\n",
              "      <td>...</td>\n",
              "      <td>...</td>\n",
              "      <td>...</td>\n",
              "      <td>...</td>\n",
              "      <td>...</td>\n",
              "      <td>...</td>\n",
              "    </tr>\n",
              "    <tr>\n",
              "      <th>15995</th>\n",
              "      <td>0.0</td>\n",
              "      <td>0.0</td>\n",
              "      <td>0.0</td>\n",
              "      <td>0.0</td>\n",
              "      <td>0.0</td>\n",
              "      <td>0.0</td>\n",
              "      <td>0.0</td>\n",
              "      <td>0.0</td>\n",
              "      <td>0.0</td>\n",
              "      <td>0.0</td>\n",
              "      <td>...</td>\n",
              "      <td>0.0</td>\n",
              "      <td>0.0</td>\n",
              "      <td>0.0</td>\n",
              "      <td>0.0</td>\n",
              "      <td>0.0</td>\n",
              "      <td>0.0</td>\n",
              "      <td>0.0</td>\n",
              "      <td>0.0</td>\n",
              "      <td>0.0</td>\n",
              "      <td>0.0</td>\n",
              "    </tr>\n",
              "    <tr>\n",
              "      <th>15996</th>\n",
              "      <td>0.0</td>\n",
              "      <td>0.0</td>\n",
              "      <td>0.0</td>\n",
              "      <td>0.0</td>\n",
              "      <td>0.0</td>\n",
              "      <td>0.0</td>\n",
              "      <td>0.0</td>\n",
              "      <td>0.0</td>\n",
              "      <td>0.0</td>\n",
              "      <td>0.0</td>\n",
              "      <td>...</td>\n",
              "      <td>0.0</td>\n",
              "      <td>0.0</td>\n",
              "      <td>0.0</td>\n",
              "      <td>0.0</td>\n",
              "      <td>0.0</td>\n",
              "      <td>0.0</td>\n",
              "      <td>0.0</td>\n",
              "      <td>0.0</td>\n",
              "      <td>0.0</td>\n",
              "      <td>0.0</td>\n",
              "    </tr>\n",
              "    <tr>\n",
              "      <th>15997</th>\n",
              "      <td>0.0</td>\n",
              "      <td>0.0</td>\n",
              "      <td>0.0</td>\n",
              "      <td>0.0</td>\n",
              "      <td>0.0</td>\n",
              "      <td>0.0</td>\n",
              "      <td>0.0</td>\n",
              "      <td>0.0</td>\n",
              "      <td>0.0</td>\n",
              "      <td>0.0</td>\n",
              "      <td>...</td>\n",
              "      <td>0.0</td>\n",
              "      <td>0.0</td>\n",
              "      <td>0.0</td>\n",
              "      <td>0.0</td>\n",
              "      <td>0.0</td>\n",
              "      <td>0.0</td>\n",
              "      <td>0.0</td>\n",
              "      <td>0.0</td>\n",
              "      <td>0.0</td>\n",
              "      <td>0.0</td>\n",
              "    </tr>\n",
              "    <tr>\n",
              "      <th>15998</th>\n",
              "      <td>0.0</td>\n",
              "      <td>0.0</td>\n",
              "      <td>0.0</td>\n",
              "      <td>0.0</td>\n",
              "      <td>0.0</td>\n",
              "      <td>0.0</td>\n",
              "      <td>0.0</td>\n",
              "      <td>0.0</td>\n",
              "      <td>0.0</td>\n",
              "      <td>0.0</td>\n",
              "      <td>...</td>\n",
              "      <td>0.0</td>\n",
              "      <td>0.0</td>\n",
              "      <td>0.0</td>\n",
              "      <td>0.0</td>\n",
              "      <td>0.0</td>\n",
              "      <td>0.0</td>\n",
              "      <td>0.0</td>\n",
              "      <td>0.0</td>\n",
              "      <td>0.0</td>\n",
              "      <td>0.0</td>\n",
              "    </tr>\n",
              "    <tr>\n",
              "      <th>15999</th>\n",
              "      <td>0.0</td>\n",
              "      <td>0.0</td>\n",
              "      <td>0.0</td>\n",
              "      <td>0.0</td>\n",
              "      <td>0.0</td>\n",
              "      <td>0.0</td>\n",
              "      <td>0.0</td>\n",
              "      <td>0.0</td>\n",
              "      <td>0.0</td>\n",
              "      <td>0.0</td>\n",
              "      <td>...</td>\n",
              "      <td>0.0</td>\n",
              "      <td>0.0</td>\n",
              "      <td>0.0</td>\n",
              "      <td>0.0</td>\n",
              "      <td>0.0</td>\n",
              "      <td>0.0</td>\n",
              "      <td>0.0</td>\n",
              "      <td>0.0</td>\n",
              "      <td>0.0</td>\n",
              "      <td>0.0</td>\n",
              "    </tr>\n",
              "  </tbody>\n",
              "</table>\n",
              "<p>16000 rows × 4378 columns</p>\n",
              "</div>"
            ],
            "text/plain": [
              "       0     1     2     3     4     5     6     7     8     9     ...  4368  \\\n",
              "0       0.0   0.0   0.0   0.0   0.0   0.0   0.0   0.0   0.0   0.0  ...   0.0   \n",
              "1       0.0   0.0   0.0   0.0   0.0   0.0   0.0   0.0   0.0   0.0  ...   0.0   \n",
              "2       0.0   0.0   0.0   0.0   0.0   0.0   0.0   0.0   0.0   0.0  ...   0.0   \n",
              "3       0.0   0.0   0.0   0.0   0.0   0.0   0.0   0.0   0.0   0.0  ...   0.0   \n",
              "4       0.0   0.0   0.0   0.0   0.0   0.0   0.0   0.0   0.0   0.0  ...   0.0   \n",
              "...     ...   ...   ...   ...   ...   ...   ...   ...   ...   ...  ...   ...   \n",
              "15995   0.0   0.0   0.0   0.0   0.0   0.0   0.0   0.0   0.0   0.0  ...   0.0   \n",
              "15996   0.0   0.0   0.0   0.0   0.0   0.0   0.0   0.0   0.0   0.0  ...   0.0   \n",
              "15997   0.0   0.0   0.0   0.0   0.0   0.0   0.0   0.0   0.0   0.0  ...   0.0   \n",
              "15998   0.0   0.0   0.0   0.0   0.0   0.0   0.0   0.0   0.0   0.0  ...   0.0   \n",
              "15999   0.0   0.0   0.0   0.0   0.0   0.0   0.0   0.0   0.0   0.0  ...   0.0   \n",
              "\n",
              "       4369  4370  4371  4372  4373  4374  4375  4376  4377  \n",
              "0       0.0   0.0   0.0   0.0   0.0   0.0   0.0   0.0   0.0  \n",
              "1       0.0   0.0   0.0   0.0   0.0   0.0   0.0   0.0   0.0  \n",
              "2       0.0   0.0   0.0   0.0   0.0   0.0   0.0   0.0   0.0  \n",
              "3       0.0   0.0   0.0   0.0   0.0   0.0   0.0   0.0   0.0  \n",
              "4       0.0   0.0   0.0   0.0   0.0   0.0   0.0   0.0   0.0  \n",
              "...     ...   ...   ...   ...   ...   ...   ...   ...   ...  \n",
              "15995   0.0   0.0   0.0   0.0   0.0   0.0   0.0   0.0   0.0  \n",
              "15996   0.0   0.0   0.0   0.0   0.0   0.0   0.0   0.0   0.0  \n",
              "15997   0.0   0.0   0.0   0.0   0.0   0.0   0.0   0.0   0.0  \n",
              "15998   0.0   0.0   0.0   0.0   0.0   0.0   0.0   0.0   0.0  \n",
              "15999   0.0   0.0   0.0   0.0   0.0   0.0   0.0   0.0   0.0  \n",
              "\n",
              "[16000 rows x 4378 columns]"
            ]
          },
          "execution_count": 34,
          "metadata": {},
          "output_type": "execute_result"
        }
      ],
      "source": [
        "pd.DataFrame.sparse.from_spmatrix(x_train_tf)"
      ]
    },
    {
      "cell_type": "code",
      "execution_count": 35,
      "metadata": {
        "id": "55vf-Lio-9pK",
        "outputId": "e8d56113-a855-4d59-f586-c93ee533164b"
      },
      "outputs": [
        {
          "data": {
            "text/plain": [
              "scipy.sparse._csr.csr_matrix"
            ]
          },
          "execution_count": 36,
          "metadata": {},
          "output_type": "execute_result"
        }
      ],
      "source": [
        "type(x_train_tf)"
      ]
    },
    {
      "cell_type": "markdown",
      "metadata": {
        "id": "clAoyWYoIqLO"
      },
      "source": [
        "# Models\n",
        "\n",
        "*   Training data with 8 diffrent models\n",
        "\n"
      ]
    },
    {
      "cell_type": "code",
      "execution_count": 37,
      "metadata": {
        "id": "ur0fdiw2Pw9N"
      },
      "outputs": [],
      "source": [
        "import time\n",
        "from sklearn.metrics import plot_confusion_matrix\n",
        "from sklearn.metrics import f1_score\n",
        "from sklearn.metrics import classification_report"
      ]
    },
    {
      "cell_type": "code",
      "execution_count": 38,
      "metadata": {
        "id": "WB0jNM4DPdxp"
      },
      "outputs": [],
      "source": [
        "inference_time = {}\n",
        "f1_score_val ={}"
      ]
    },
    {
      "cell_type": "code",
      "execution_count": 39,
      "metadata": {
        "id": "fYfT0Ack-9pK"
      },
      "outputs": [],
      "source": [
        "def efficiency_score(fi, inference_time, max_inference_time):\n",
        "\n",
        "    # Normalize inference time by dividing it with maximum inference time across all models\n",
        "    normalized_inference_time = 1 - (inference_time / max_inference_time)\n",
        "\n",
        "    # Calculate Efficiency Score as weighted average of F1 score and normalized inference time\n",
        "    efficiency_score = (0.7 * normalized_inference_time) + 0.3 * fi\n",
        "\n",
        "    return efficiency_score"
      ]
    },
    {
      "cell_type": "markdown",
      "metadata": {
        "id": "K6g0KEE6x8yG"
      },
      "source": [
        "# 1.   svm\n",
        "\n",
        ">Support Vector Machine (SVM) is a supervised machine learning algorithm used for classification and regression tasks. It finds an optimal hyperplane that maximally separates data points of different classes or predicts continuous values based on their features.\n",
        "\n"
      ]
    },
    {
      "cell_type": "code",
      "execution_count": 40,
      "metadata": {
        "id": "AMo2VeoHyFuI"
      },
      "outputs": [],
      "source": [
        "from sklearn.svm import SVC"
      ]
    },
    {
      "cell_type": "code",
      "execution_count": 41,
      "metadata": {
        "colab": {
          "base_uri": "https://localhost:8080/"
        },
        "id": "4KrcPy3ByHBl",
        "outputId": "e745d0fe-31a2-498e-e7af-21035ee30517"
      },
      "outputs": [
        {
          "name": "stdout",
          "output_type": "stream",
          "text": [
            "[LibSVM]"
          ]
        }
      ],
      "source": [
        "svm_model = SVC(\n",
        "    verbose = True,\n",
        "    random_state=1\n",
        ")\n",
        "start_time = time.time()\n",
        "\n",
        "svm_model = svm_model.fit(x_train_tf, train_labels)\n",
        "y_pred = svm_model.predict(x_test_tf)\n",
        "\n",
        "end_time = time.time()\n",
        "\n",
        "inference_time['SVM'] = round(end_time - start_time, 2)\n",
        "f1_score_val['SVM'] = f1_score(test_labels, y_pred)"
      ]
    },
    {
      "cell_type": "code",
      "execution_count": 42,
      "metadata": {
        "colab": {
          "base_uri": "https://localhost:8080/"
        },
        "id": "ckiPvE4Iyeko",
        "outputId": "bc481f22-aca4-4c1a-d0a2-f19fc40dbcaf"
      },
      "outputs": [
        {
          "name": "stdout",
          "output_type": "stream",
          "text": [
            "              precision    recall  f1-score   support\n",
            "\n",
            "    Negative       0.85      0.69      0.76       947\n",
            "    Positive       0.91      0.96      0.94      3053\n",
            "\n",
            "    accuracy                           0.90      4000\n",
            "   macro avg       0.88      0.83      0.85      4000\n",
            "weighted avg       0.90      0.90      0.89      4000\n",
            "\n"
          ]
        }
      ],
      "source": [
        "print(\n",
        "    classification_report(\n",
        "        test_labels.astype(int),\n",
        "        y_pred,\n",
        "        target_names = [\"Negative\", \"Positive\"]\n",
        "    )\n",
        ")\n"
      ]
    },
    {
      "cell_type": "code",
      "execution_count": 43,
      "metadata": {
        "id": "Edkn7ltm-9pS",
        "outputId": "432ed960-dfd0-4cd7-dc79-61754fffc23f"
      },
      "outputs": [
        {
          "data": {
            "text/plain": [
              "<sklearn.metrics._plot.confusion_matrix.ConfusionMatrixDisplay at 0x1f794696c70>"
            ]
          },
          "execution_count": 44,
          "metadata": {},
          "output_type": "execute_result"
        },
        {
          "data": {
            "image/png": "[encoded data removed]",
            "text/plain": [
              "<Figure size 640x480 with 2 Axes>"
            ]
          },
          "metadata": {},
          "output_type": "display_data"
        }
      ],
      "source": [
        "plot_confusion_matrix(svm_model, x_test, test_labels)"
      ]
    },
    {
      "cell_type": "markdown",
      "metadata": {
        "id": "emKvQJ-VBqHm"
      },
      "source": [
        "# 2. MLP classification\n",
        "\n",
        "> Multilayer Perceptron (MLP) is a type of artificial neural network with multiple layers of nodes, including an input layer, one or more hidden layers, and an output layer. It is commonly used for various machine learning tasks such as classification and regression.\n",
        "\n"
      ]
    },
    {
      "cell_type": "code",
      "execution_count": 45,
      "metadata": {
        "id": "8S5i43UWBp0V"
      },
      "outputs": [],
      "source": [
        "from sklearn.neural_network import MLPClassifier"
      ]
    },
    {
      "cell_type": "code",
      "execution_count": 46,
      "metadata": {
        "id": "n8iTL8hpU6Gb"
      },
      "outputs": [],
      "source": [
        "mlp_model = MLPClassifier(\n",
        "                 alpha=10e-5,\n",
        "                 max_iter = 500,\n",
        ")\n",
        "start_time = time.time()\n",
        "\n",
        "mlp_model.fit(x_train, train_labels)\n",
        "y_pred = mlp_model.predict(x_test)\n",
        "\n",
        "end_time = time.time()\n",
        "\n",
        "inference_time['MLP'] = round(end_time - start_time, 2)\n",
        "f1_score_val['MLP'] = f1_score(test_labels, y_pred)"
      ]
    },
    {
      "cell_type": "code",
      "execution_count": 47,
      "metadata": {
        "colab": {
          "base_uri": "https://localhost:8080/"
        },
        "id": "xjwqAbnCBpPw",
        "outputId": "b1859ef1-a295-4cc3-fbec-fad72c71f0e5"
      },
      "outputs": [
        {
          "name": "stdout",
          "output_type": "stream",
          "text": [
            "              precision    recall  f1-score   support\n",
            "\n",
            "    Negative       0.74      0.73      0.74       947\n",
            "    Positive       0.92      0.92      0.92      3053\n",
            "\n",
            "    accuracy                           0.88      4000\n",
            "   macro avg       0.83      0.83      0.83      4000\n",
            "weighted avg       0.88      0.88      0.88      4000\n",
            "\n"
          ]
        }
      ],
      "source": [
        "print(\n",
        "    classification_report(\n",
        "        test_labels.astype(int),\n",
        "        y_pred,\n",
        "        target_names = [\"Negative\", \"Positive\"]\n",
        "    )\n",
        ")"
      ]
    },
    {
      "cell_type": "code",
      "execution_count": 48,
      "metadata": {
        "id": "8eHGLC4u-9pS",
        "outputId": "bccadc80-fa52-459b-b5ec-194097eb2d18"
      },
      "outputs": [
        {
          "name": "stderr",
          "output_type": "stream",
          "text": [
            "F:\\ana\\lib\\site-packages\\sklearn\\utils\\deprecation.py:87: FutureWarning: Function plot_confusion_matrix is deprecated; Function `plot_confusion_matrix` is deprecated in 1.0 and will be removed in 1.2. Use one of the class methods: ConfusionMatrixDisplay.from_predictions or ConfusionMatrixDisplay.from_estimator.\n",
            "  warnings.warn(msg, category=FutureWarning)\n"
          ]
        },
        {
          "data": {
            "text/plain": [
              "<sklearn.metrics._plot.confusion_matrix.ConfusionMatrixDisplay at 0x1f7dcca7a60>"
            ]
          },
          "execution_count": 49,
          "metadata": {},
          "output_type": "execute_result"
        },
        {
          "data": {
            "image/png": "[encoded data removed]",
            "text/plain": [
              "<Figure size 640x480 with 2 Axes>"
            ]
          },
          "metadata": {},
          "output_type": "display_data"
        }
      ],
      "source": [
        "plot_confusion_matrix(mlp_model, x_test, test_labels)"
      ]
    },
    {
      "cell_type": "markdown",
      "metadata": {
        "id": "Mh3FJFxGYzem"
      },
      "source": [
        "#3. Logistic Regression\n",
        "\n",
        "> Logistic Regression is a classification algorithm used to predict binary outcomes by fitting a logistic function to the input data. It estimates the probability of an event occurring based on the input features.\n",
        "\n"
      ]
    },
    {
      "cell_type": "code",
      "execution_count": 50,
      "metadata": {
        "id": "7R3sWeOcNz89"
      },
      "outputs": [],
      "source": [
        "from sklearn.linear_model import LogisticRegression"
      ]
    },
    {
      "cell_type": "code",
      "execution_count": 51,
      "metadata": {
        "id": "5CE-PtA6Y9RM"
      },
      "outputs": [],
      "source": [
        "log_model = LogisticRegression( random_state = 1)\n",
        "\n",
        "start_time = time.time()\n",
        "\n",
        "log_model.fit(x_train_tf, train_labels)\n",
        "y_pred = log_model.predict(x_test_tf)\n",
        "\n",
        "end_time = time.time()\n",
        "\n",
        "inference_time[' LogisticRegression'] = round(end_time - start_time, 2)\n",
        "f1_score_val[' LogisticRegression'] = f1_score(test_labels, y_pred)"
      ]
    },
    {
      "cell_type": "code",
      "execution_count": 52,
      "metadata": {
        "colab": {
          "base_uri": "https://localhost:8080/"
        },
        "id": "QadWL1uQZdbn",
        "outputId": "f036b7b1-6fb7-4585-ce1a-e60c359ff72d"
      },
      "outputs": [
        {
          "name": "stdout",
          "output_type": "stream",
          "text": [
            "              precision    recall  f1-score   support\n",
            "\n",
            "    Negative       0.87      0.68      0.76       965\n",
            "    Positive       0.91      0.97      0.94      3035\n",
            "\n",
            "    accuracy                           0.90      4000\n",
            "   macro avg       0.89      0.83      0.85      4000\n",
            "weighted avg       0.90      0.90      0.89      4000\n",
            "\n"
          ]
        }
      ],
      "source": [
        "print(\n",
        "    classification_report(\n",
        "        test_labels.astype(int),\n",
        "        y_pred,\n",
        "        target_names = [\"Negative\", \"Positive\"]\n",
        "    )\n",
        ")"
      ]
    },
    {
      "cell_type": "code",
      "execution_count": 53,
      "metadata": {
        "id": "0rnMd07T-9pT",
        "outputId": "1d695aac-63a6-472e-f72f-8004a1d7ba9e"
      },
      "outputs": [
        {
          "data": {
            "text/plain": [
              "<sklearn.metrics._plot.confusion_matrix.ConfusionMatrixDisplay at 0x1f787bcc280>"
            ]
          },
          "execution_count": 54,
          "metadata": {},
          "output_type": "execute_result"
        },
        {
          "data": {
            "image/png": "[encoded data removed]",
            "text/plain": [
              "<Figure size 640x480 with 2 Axes>"
            ]
          },
          "metadata": {},
          "output_type": "display_data"
        }
      ],
      "source": [
        "plot_confusion_matrix(log_model, x_test1, test_labels)"
      ]
    },
    {
      "cell_type": "markdown",
      "metadata": {
        "id": "Z4tLPNpGZrTC"
      },
      "source": [
        "# 4.SGD\n",
        "\n",
        "> SGDClassifier is a linear classifier in scikit-learn that uses the Stochastic Gradient Descent (SGD) optimization algorithm for training. It is efficient for large-scale machine learning tasks and supports various loss functions, making it suitable for both binary and multiclass classification problems.\n",
        "\n"
      ]
    },
    {
      "cell_type": "code",
      "execution_count": 55,
      "metadata": {
        "id": "38V-W7cRZ_mM"
      },
      "outputs": [],
      "source": [
        "from sklearn.linear_model import SGDClassifier"
      ]
    },
    {
      "cell_type": "code",
      "execution_count": 56,
      "metadata": {
        "colab": {
          "base_uri": "https://localhost:8080/"
        },
        "id": "nZdVYG9cZ_d8",
        "outputId": "807561d6-81d4-48ae-8399-acb69563712e"
      },
      "outputs": [
        {
          "name": "stderr",
          "output_type": "stream",
          "text": [
            "/usr/local/lib/python3.10/dist-packages/sklearn/linear_model/_stochastic_gradient.py:163: FutureWarning: The loss 'log' was deprecated in v1.1 and will be removed in version 1.3. Use `loss='log_loss'` which is equivalent.\n",
            "  warnings.warn(\n"
          ]
        }
      ],
      "source": [
        "sgd_model = SGDClassifier(loss='log', penalty='l2', alpha=10e-5, max_iter=500, tol=None,  eta0=0.01)\n",
        "start_time = time.time()\n",
        "\n",
        "sgd_model.fit(x_train, train_labels)\n",
        "y_pred = sgd_model.predict(x_test)\n",
        "\n",
        "end_time = time.time()\n",
        "\n",
        "inference_time['SGD'] = round(end_time - start_time, 2)\n",
        "f1_score_val['SGD'] = f1_score(test_labels, y_pred)"
      ]
    },
    {
      "cell_type": "code",
      "execution_count": 57,
      "metadata": {
        "colab": {
          "base_uri": "https://localhost:8080/"
        },
        "id": "UcPELvB9Z_WI",
        "outputId": "8401cda3-9a47-4ef8-e884-ff4dcc9370ce"
      },
      "outputs": [
        {
          "name": "stdout",
          "output_type": "stream",
          "text": [
            "              precision    recall  f1-score   support\n",
            "\n",
            "    Negative       0.82      0.75      0.78       965\n",
            "    Positive       0.92      0.95      0.94      3035\n",
            "\n",
            "    accuracy                           0.90      4000\n",
            "   macro avg       0.87      0.85      0.86      4000\n",
            "weighted avg       0.90      0.90      0.90      4000\n",
            "\n"
          ]
        }
      ],
      "source": [
        "print(\n",
        "    classification_report(\n",
        "        test_labels.astype(int),\n",
        "        y_pred,\n",
        "        target_names = [\"Negative\", \"Positive\"]\n",
        "    )\n",
        ")"
      ]
    },
    {
      "cell_type": "code",
      "execution_count": 58,
      "metadata": {
        "id": "PU3lJhuH-9pU",
        "outputId": "dac5fbb3-60f5-4c6c-8665-e6812725dcde"
      },
      "outputs": [
        {
          "data": {
            "text/plain": [
              "{'SVM': 3.72,\n",
              " 'MLP': 0.01,\n",
              " ' LogisticRegression': 0.28,\n",
              " 'SGD': 0.9,\n",
              " 'KNN': 1.59,\n",
              " 'MNB': 0.0,\n",
              " 'DTC': 1.71,\n",
              " 'CNB': 0.0}"
            ]
          },
          "execution_count": 59,
          "metadata": {},
          "output_type": "execute_result"
        }
      ],
      "source": [
        "inference_time"
      ]
    },
    {
      "cell_type": "code",
      "execution_count": 60,
      "metadata": {
        "id": "XWRy8_wP-9pU",
        "outputId": "b40df0c1-4194-4b3b-81e9-f1e8120eb00c"
      },
      "outputs": [
        {
          "name": "stderr",
          "output_type": "stream",
          "text": [
            "F:\\ana\\lib\\site-packages\\sklearn\\utils\\deprecation.py:87: FutureWarning: Function plot_confusion_matrix is deprecated; Function `plot_confusion_matrix` is deprecated in 1.0 and will be removed in 1.2. Use one of the class methods: ConfusionMatrixDisplay.from_predictions or ConfusionMatrixDisplay.from_estimator.\n",
            "  warnings.warn(msg, category=FutureWarning)\n"
          ]
        },
        {
          "data": {
            "text/plain": [
              "<sklearn.metrics._plot.confusion_matrix.ConfusionMatrixDisplay at 0x1f78420fa30>"
            ]
          },
          "execution_count": 61,
          "metadata": {},
          "output_type": "execute_result"
        },
        {
          "data": {
            "image/png": "[encoded data removed]",
            "text/plain": [
              "<Figure size 640x480 with 2 Axes>"
            ]
          },
          "metadata": {},
          "output_type": "display_data"
        }
      ],
      "source": [
        "plot_confusion_matrix(sgd_model, x_test, test_labels)"
      ]
    },
    {
      "cell_type": "markdown",
      "metadata": {
        "id": "XJqGxWrha-rV"
      },
      "source": [
        "# 5. K-Nearest Neighbors (KNN)\n",
        "\n",
        "> K-Nearest Neighbors (KNN) is a simple yet powerful supervised machine learning algorithm used for both classification and regression tasks. It predicts the class or value of a new data point based on its proximity to the k nearest labeled data points in the training set.\n",
        "\n"
      ]
    },
    {
      "cell_type": "code",
      "execution_count": 62,
      "metadata": {
        "id": "wLuQDnV9-9pV"
      },
      "outputs": [],
      "source": [
        "from sklearn.neighbors import KNeighborsClassifier"
      ]
    },
    {
      "cell_type": "code",
      "execution_count": 63,
      "metadata": {
        "id": "ZEkZvxH_cky0"
      },
      "outputs": [],
      "source": [
        "knn_model = KNeighborsClassifier(\n",
        "    n_neighbors = 36\n",
        ")\n",
        "start_time = time.time()\n",
        "\n",
        "knn_model.fit(x_train_tf, train_labels)\n",
        "y_pred = knn_model.predict(x_test_tf)\n",
        "\n",
        "end_time = time.time()\n",
        "\n",
        "inference_time['KNN'] = round(end_time - start_time, 2)\n",
        "f1_score_val['KNN'] = f1_score(test_labels, y_pred)"
      ]
    },
    {
      "cell_type": "code",
      "execution_count": 64,
      "metadata": {
        "colab": {
          "base_uri": "https://localhost:8080/"
        },
        "id": "7l6GW_S-canp",
        "outputId": "70c46f6d-a8b8-47ee-d272-ea7340a951bc"
      },
      "outputs": [
        {
          "name": "stdout",
          "output_type": "stream",
          "text": [
            "              precision    recall  f1-score   support\n",
            "\n",
            "    Negative       0.81      0.58      0.68       965\n",
            "    Positive       0.88      0.96      0.92      3035\n",
            "\n",
            "    accuracy                           0.87      4000\n",
            "   macro avg       0.85      0.77      0.80      4000\n",
            "weighted avg       0.86      0.87      0.86      4000\n",
            "\n"
          ]
        }
      ],
      "source": [
        "print(\n",
        "    classification_report(\n",
        "        test_labels.astype(int),\n",
        "        y_pred,\n",
        "        target_names = [\"Negative\", \"Positive\"]\n",
        "    )\n",
        ")"
      ]
    },
    {
      "cell_type": "code",
      "execution_count": 65,
      "metadata": {
        "id": "tRpzZ7r_-9pV",
        "outputId": "1d6e55be-08cb-435f-c473-1c86918c6c03"
      },
      "outputs": [
        {
          "data": {
            "text/plain": [
              "<sklearn.metrics._plot.confusion_matrix.ConfusionMatrixDisplay at 0x1f7886dab80>"
            ]
          },
          "execution_count": 66,
          "metadata": {},
          "output_type": "execute_result"
        },
        {
          "data": {
            "image/png": "[encoded data removed]",
            "text/plain": [
              "<Figure size 640x480 with 2 Axes>"
            ]
          },
          "metadata": {},
          "output_type": "display_data"
        }
      ],
      "source": [
        "plot_confusion_matrix(knn_model, x_test_tf, test_labels)"
      ]
    },
    {
      "cell_type": "markdown",
      "metadata": {
        "id": "ctf0feJ8d9Vi"
      },
      "source": [
        "## 6. Multinomial Naive Bayes\n",
        "\n",
        "> Multinomial Naive Bayes is a probabilistic classification algorithm commonly used for text categorization tasks. It assumes that the features are generated from a multinomial distribution and computes the likelihood of each class given the observed feature values.\n",
        "\n"
      ]
    },
    {
      "cell_type": "code",
      "execution_count": 67,
      "metadata": {
        "id": "jA8E1ojreCJo"
      },
      "outputs": [],
      "source": [
        "from sklearn.naive_bayes import MultinomialNB"
      ]
    },
    {
      "cell_type": "code",
      "execution_count": 68,
      "metadata": {
        "id": "cKfmtZBueCBw"
      },
      "outputs": [],
      "source": [
        "mnb_model = MultinomialNB(force_alpha = True)\n",
        "start_time = time.time()\n",
        "\n",
        "mnb_model.fit(x_train, train_labels)\n",
        "y_pred =mnb_model.predict(x_test)\n",
        "\n",
        "end_time = time.time()\n",
        "\n",
        "inference_time['MNB'] = round(end_time - start_time, 2)\n",
        "f1_score_val['MNB'] = f1_score(test_labels, y_pred)"
      ]
    },
    {
      "cell_type": "code",
      "execution_count": 69,
      "metadata": {
        "colab": {
          "base_uri": "https://localhost:8080/"
        },
        "id": "_OqgrDA_eaZp",
        "outputId": "5ceeb8b0-2bf3-48b6-e5a3-e3f6808f2a35"
      },
      "outputs": [
        {
          "name": "stdout",
          "output_type": "stream",
          "text": [
            "              precision    recall  f1-score   support\n",
            "\n",
            "    Negative       0.83      0.68      0.75       965\n",
            "    Positive       0.90      0.96      0.93      3035\n",
            "\n",
            "    accuracy                           0.89      4000\n",
            "   macro avg       0.87      0.82      0.84      4000\n",
            "weighted avg       0.89      0.89      0.89      4000\n",
            "\n"
          ]
        }
      ],
      "source": [
        "print(\n",
        "    classification_report(\n",
        "        test_labels.astype(int),\n",
        "        y_pred,\n",
        "        target_names = [\"Negative\", \"Positive\"]\n",
        "    )\n",
        ")"
      ]
    },
    {
      "cell_type": "code",
      "execution_count": 70,
      "metadata": {
        "id": "z9W15Z2v-9pW",
        "outputId": "805cf2b0-4a8f-40a0-827e-916f0a2a7a00"
      },
      "outputs": [
        {
          "data": {
            "text/plain": [
              "<sklearn.metrics._plot.confusion_matrix.ConfusionMatrixDisplay at 0x1f7dcc58520>"
            ]
          },
          "execution_count": 71,
          "metadata": {},
          "output_type": "execute_result"
        },
        {
          "data": {
            "image/png": "[encoded data removed]",
            "text/plain": [
              "<Figure size 640x480 with 2 Axes>"
            ]
          },
          "metadata": {},
          "output_type": "display_data"
        }
      ],
      "source": [
        "plot_confusion_matrix(mnb_model, x_test, test_labels)"
      ]
    },
    {
      "cell_type": "markdown",
      "metadata": {
        "id": "t1LrSj9jesVq"
      },
      "source": [
        "#7. Decision Tree\n",
        "\n",
        "> Decision Tree is a popular supervised machine learning algorithm used for both classification and regression tasks. It recursively partitions the feature space based on the most informative features, creating a tree-like model to make predictions and interpret decisions.\n",
        "\n"
      ]
    },
    {
      "cell_type": "code",
      "execution_count": 72,
      "metadata": {
        "id": "ic0ts41Der4B"
      },
      "outputs": [],
      "source": [
        "from sklearn import tree"
      ]
    },
    {
      "cell_type": "code",
      "execution_count": 73,
      "metadata": {
        "id": "hoqgixQwe-cm"
      },
      "outputs": [],
      "source": [
        "dtc_model = tree.DecisionTreeClassifier(\n",
        "    random_state = 1,\n",
        ")\n",
        "start_time = time.time()\n",
        "\n",
        "dtc_model.fit(x_train_tf, train_labels)\n",
        "y_pred = dtc_model.predict(x_test_tf)\n",
        "\n",
        "end_time = time.time()\n",
        "\n",
        "inference_time['DTC'] = round(end_time - start_time, 2)\n",
        "f1_score_val['DTC'] = f1_score(test_labels, y_pred)"
      ]
    },
    {
      "cell_type": "code",
      "execution_count": 74,
      "metadata": {
        "colab": {
          "base_uri": "https://localhost:8080/"
        },
        "id": "OnZPNytvfqi6",
        "outputId": "5db32b55-bd59-4027-f14f-e4a98d2a10d2"
      },
      "outputs": [
        {
          "name": "stdout",
          "output_type": "stream",
          "text": [
            "              precision    recall  f1-score   support\n",
            "\n",
            "    Negative       0.60      0.62      0.61       961\n",
            "    Positive       0.88      0.87      0.87      3039\n",
            "\n",
            "    accuracy                           0.81      4000\n",
            "   macro avg       0.74      0.74      0.74      4000\n",
            "weighted avg       0.81      0.81      0.81      4000\n",
            "\n"
          ]
        }
      ],
      "source": [
        "print(\n",
        "    classification_report(\n",
        "        test_labels.astype(int),\n",
        "        y_pred,\n",
        "        target_names = [\"Negative\", \"Positive\"]\n",
        "    )\n",
        ")"
      ]
    },
    {
      "cell_type": "code",
      "execution_count": 75,
      "metadata": {
        "id": "Nrc7YTMtfy2m",
        "outputId": "f1737484-bbcb-4ec2-a4e8-30c86ac56206"
      },
      "outputs": [
        {
          "data": {
            "text/plain": [
              "<sklearn.metrics._plot.confusion_matrix.ConfusionMatrixDisplay at 0x1f78fde3820>"
            ]
          },
          "execution_count": 76,
          "metadata": {},
          "output_type": "execute_result"
        },
        {
          "data": {
            "image/png": "[encoded data removed]",
            "text/plain": [
              "<Figure size 640x480 with 2 Axes>"
            ]
          },
          "metadata": {},
          "output_type": "display_data"
        }
      ],
      "source": [
        "plot_confusion_matrix(dtc_model, x_test_tf, test_labels)"
      ]
    },
    {
      "attachments": {},
      "cell_type": "markdown",
      "metadata": {
        "id": "VhKJDrra-9pX"
      },
      "source": [
        "# 8. Complement Naive Bayes\n",
        "\n",
        "> Complement Naive Bayes is a variant of the Naive Bayes algorithm that addresses the issue of imbalanced class distributions in classification problems. It applies a complementary approach by considering the distribution of features in the complement of each class to make more accurate predictions.\n",
        "\n"
      ]
    },
    {
      "cell_type": "code",
      "execution_count": 77,
      "metadata": {
        "id": "vii0mv1L-9pX"
      },
      "outputs": [],
      "source": [
        "from sklearn.naive_bayes import ComplementNB"
      ]
    },
    {
      "cell_type": "code",
      "execution_count": 78,
      "metadata": {
        "id": "VZYGcRyz-9pX"
      },
      "outputs": [],
      "source": [
        "cnb_model = ComplementNB(\n",
        "    force_alpha = True,\n",
        ")\n",
        "start_time = time.time()\n",
        "\n",
        "cnb_model.fit(x_train, train_labels)\n",
        "y_pred = cnb_model.predict(x_test)\n",
        "\n",
        "end_time = time.time()\n",
        "\n",
        "inference_time['cnb'] = round(end_time - start_time, 2)\n",
        "f1_score_val['cnb'] = f1_score(test_labels, y_pred)"
      ]
    },
    {
      "cell_type": "code",
      "execution_count": 79,
      "metadata": {
        "colab": {
          "base_uri": "https://localhost:8080/"
        },
        "id": "gieas3YT-9pX",
        "outputId": "33f1cdd3-d5fb-4a58-c479-f6135580ba8f"
      },
      "outputs": [
        {
          "name": "stdout",
          "output_type": "stream",
          "text": [
            "              precision    recall  f1-score   support\n",
            "\n",
            "    Negative       0.76      0.78      0.77       961\n",
            "    Positive       0.93      0.92      0.93      3039\n",
            "\n",
            "    accuracy                           0.89      4000\n",
            "   macro avg       0.84      0.85      0.85      4000\n",
            "weighted avg       0.89      0.89      0.89      4000\n",
            "\n"
          ]
        }
      ],
      "source": [
        "print(\n",
        "    classification_report(\n",
        "        test_labels.astype(int),\n",
        "        y_pred,\n",
        "        target_names = [\"Negative\", \"Positive\"]\n",
        "    )\n",
        ")"
      ]
    },
    {
      "cell_type": "markdown",
      "metadata": {
        "id": "Dpv84Ws1VUqo"
      },
      "source": []
    },
    {
      "cell_type": "code",
      "execution_count": 80,
      "metadata": {
        "id": "wj8ZveSU-9pX",
        "outputId": "04d9b6e3-145a-4446-b03e-c42c6902b548"
      },
      "outputs": [
        {
          "data": {
            "text/plain": [
              "<sklearn.metrics._plot.confusion_matrix.ConfusionMatrixDisplay at 0x1f78e13a4f0>"
            ]
          },
          "execution_count": 81,
          "metadata": {},
          "output_type": "execute_result"
        },
        {
          "data": {
            "image/png": "[encoded data removed]",
            "text/plain": [
              "<Figure size 640x480 with 2 Axes>"
            ]
          },
          "metadata": {},
          "output_type": "display_data"
        }
      ],
      "source": [
        "plot_confusion_matrix(cnb_model, x_test, test_labels)"
      ]
    },
    {
      "cell_type": "code",
      "execution_count": 82,
      "metadata": {
        "colab": {
          "base_uri": "https://localhost:8080/"
        },
        "id": "SxyQaQRa-9pY",
        "outputId": "b400bc22-c04e-4a17-ea9c-10c78433f922"
      },
      "outputs": [
        {
          "data": {
            "text/plain": [
              "{'SVM': 0.935304403115562,\n",
              " 'MLP': 0.9185475956820413,\n",
              " ' LogisticRegression': 0.9352884921899904,\n",
              " 'SGD': 0.9350902879453392,\n",
              " 'KNN': 0.9160883280757098,\n",
              " 'MNB': 0.9301729660474054,\n",
              " 'DTC': 0.8738634485038849,\n",
              " 'cnb': 0.9253879168042258}"
            ]
          },
          "execution_count": 83,
          "metadata": {},
          "output_type": "execute_result"
        }
      ],
      "source": [
        "f1_score_val"
      ]
    },
    {
      "cell_type": "code",
      "execution_count": 84,
      "metadata": {
        "id": "GqxLguK6-9pY"
      },
      "outputs": [],
      "source": [
        "f1_score_val['CNB'] = f1_score_val.pop('cnb')\n",
        "inference_time['CNB'] = inference_time.pop('cnb')"
      ]
    },
    {
      "cell_type": "code",
      "execution_count": 85,
      "metadata": {
        "id": "0dfPPtmS-9pY"
      },
      "outputs": [],
      "source": [
        "import matplotlib.cm as cm"
      ]
    },
    {
      "cell_type": "markdown",
      "metadata": {
        "id": "ro-za5_K-9pY"
      },
      "source": [
        "# Bar plot of accuracy"
      ]
    },
    {
      "cell_type": "code",
      "execution_count": 86,
      "metadata": {
        "colab": {
          "base_uri": "https://localhost:8080/",
          "height": 624
        },
        "id": "V4i4r41m-9pY",
        "outputId": "6e6054c6-2a2d-4dfa-f169-d416e9351a07",
        "scrolled": false
      },
      "outputs": [
        {
          "name": "stderr",
          "output_type": "stream",
          "text": [
            "<ipython-input-166-b278b73447d2>:2: MatplotlibDeprecationWarning: The get_cmap function was deprecated in Matplotlib 3.7 and will be removed two minor releases later. Use ``matplotlib.colormaps[name]`` or ``matplotlib.colormaps.get_cmap(obj)`` instead.\n",
            "  cmap = cm.get_cmap('Blues')\n"
          ]
        },
        {
          "data": {
            "image/png": "[encoded data removed]",
            "text/plain": [
              "<Figure size 1200x600 with 1 Axes>"
            ]
          },
          "metadata": {},
          "output_type": "display_data"
        }
      ],
      "source": [
        "fig = plt.figure(figsize=(12,6))\n",
        "cmap = cm.get_cmap('Blues')\n",
        "\n",
        "for i, (model, accuracy) in enumerate(f1_score_val.items()):\n",
        "  color = cmap(accuracy)\n",
        "  plt.bar(model, accuracy*100, color=color)\n",
        "\n",
        "plt.xlabel('Models')\n",
        "plt.ylabel('Accuracy')\n",
        "plt.title('Accuracy percentage of models (F1 score)')\n",
        "\n",
        "plt.show() # display the plot"
      ]
    },
    {
      "cell_type": "markdown",
      "metadata": {
        "id": "y-pX8xcs-9pY"
      },
      "source": [
        "# Bar plot of inference_time"
      ]
    },
    {
      "cell_type": "code",
      "execution_count": 87,
      "metadata": {
        "colab": {
          "base_uri": "https://localhost:8080/",
          "height": 624
        },
        "id": "gl4ApLGH-9pY",
        "outputId": "d5bc05e2-29a2-4980-feaa-72b03378da43"
      },
      "outputs": [
        {
          "name": "stderr",
          "output_type": "stream",
          "text": [
            "<ipython-input-167-b5d9f77b90e8>:2: MatplotlibDeprecationWarning: The get_cmap function was deprecated in Matplotlib 3.7 and will be removed two minor releases later. Use ``matplotlib.colormaps[name]`` or ``matplotlib.colormaps.get_cmap(obj)`` instead.\n",
            "  cmap = cm.get_cmap('rainbow')\n"
          ]
        },
        {
          "data": {
            "image/png": "[encoded data removed]",
            "text/plain": [
              "<Figure size 1200x600 with 1 Axes>"
            ]
          },
          "metadata": {},
          "output_type": "display_data"
        }
      ],
      "source": [
        "fig = plt.figure(figsize=(12,6))\n",
        "cmap = cm.get_cmap('rainbow')\n",
        "\n",
        "for i, (model, time) in enumerate(inference_time.items()):\n",
        "  color = cmap(time)\n",
        "  plt.bar(model, time, color=color)\n",
        "\n",
        "plt.xlabel('Models')\n",
        "plt.ylabel('time')\n",
        "plt.title('inference_time of models')\n",
        "\n",
        "plt.show() # display the plot"
      ]
    },
    {
      "cell_type": "markdown",
      "metadata": {
        "id": "HXxDrs41-9pZ"
      },
      "source": [
        "# Bar plot of efficiency"
      ]
    },
    {
      "cell_type": "code",
      "execution_count": 88,
      "metadata": {
        "colab": {
          "base_uri": "https://localhost:8080/",
          "height": 624
        },
        "id": "F2yB04XM-9pZ",
        "outputId": "86dfdb4f-02e1-4e7b-a30d-686f7cd7b5c9"
      },
      "outputs": [
        {
          "name": "stderr",
          "output_type": "stream",
          "text": [
            "<ipython-input-168-600eb44c1465>:2: MatplotlibDeprecationWarning: The get_cmap function was deprecated in Matplotlib 3.7 and will be removed two minor releases later. Use ``matplotlib.colormaps[name]`` or ``matplotlib.colormaps.get_cmap(obj)`` instead.\n",
            "  cmap = cm.get_cmap('twilight_shifted_r')\n"
          ]
        },
        {
          "data": {
            "image/png": "[encoded data removed]",
            "text/plain": [
              "<Figure size 1200x600 with 1 Axes>"
            ]
          },
          "metadata": {},
          "output_type": "display_data"
        }
      ],
      "source": [
        "fig = plt.figure(figsize=(12,6))\n",
        "cmap = cm.get_cmap('twilight_shifted_r')\n",
        "\n",
        "for i, (model, accuracy) in enumerate(f1_score_val.items()):\n",
        "  efficiency = efficiency_score(accuracy,inference_time[model],max(inference_time.values()))\n",
        "  color = cmap(efficiency)\n",
        "  plt.bar(model, efficiency*100, color=color)\n",
        "\n",
        "plt.xlabel('Models')\n",
        "plt.ylabel('efficiency_score')\n",
        "plt.title('efficiency_score of models')\n",
        "\n",
        "plt.show() # display the plot"
      ]
    },
    {
      "cell_type": "markdown",
      "metadata": {
        "id": "5PQRIyyOVjHp"
      },
      "source": [
        "**Conclusion**\n",
        "\n",
        ">\n",
        "\n",
        "1. In conclusion, the analysis conducted on different machine learning algorithms has provided valuable insights. It was observed that despite optimizing the parameters of the algorithms, achieving an accuracy of more than 90% was not feasible without employing more complex deep learning models.\n",
        "\n",
        "2. Furthermore, by fine-tuning various parameters of most models, their accuracy could be increased up to 90%. However, there was no significant difference in performance among these optimized models.\n",
        "\n",
        "3. Interestingly, it was noted that MLP and SVM models offered comparable accuracy levels to other models but required significantly more processing time. This indicates that these models may not be the most efficient choice for the given dataset.\n",
        "\n",
        "4. Based on the observations, it can be concluded that logistic regression and stochastic gradient descent (SGD) models demonstrated greater effectiveness in terms of accuracy and computational efficiency. These models achieved satisfactory accuracy rates while minimizing the processing time.\n",
        "\n",
        "5. To further enhance the prediction, future research could explore the application of more sophisticated deep learning algorithms and investigate additional features or data sources that might contribute to improved accuracy."
      ]
    }
  ],
  "metadata": {
    "accelerator": "TPU",
    "colab": {
      "provenance": []
    },
    "kernelspec": {
      "display_name": "Python 3 (ipykernel)",
      "language": "python",
      "name": "python3"
    },
    "language_info": {
      "codemirror_mode": {
        "name": "ipython",
        "version": 3
      },
      "file_extension": ".py",
      "mimetype": "text/x-python",
      "name": "python",
      "nbconvert_exporter": "python",
      "pygments_lexer": "ipython3",
      "version": "3.9.13"
    }
  },
  "nbformat": 4,
  "nbformat_minor": 0
}
